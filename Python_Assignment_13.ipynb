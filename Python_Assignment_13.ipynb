{
  "nbformat": 4,
  "nbformat_minor": 0,
  "metadata": {
    "colab": {
      "provenance": []
    },
    "kernelspec": {
      "name": "python3",
      "display_name": "Python 3"
    },
    "language_info": {
      "name": "python"
    }
  },
  "cells": [
    {
      "cell_type": "code",
      "execution_count": null,
      "metadata": {
        "id": "29UlJhQEaJLn"
      },
      "outputs": [],
      "source": []
    },
    {
      "cell_type": "markdown",
      "source": [
        "## 1. What advantages do Excel spreadsheets have over CSV spreadsheets?\n",
        "\n",
        "Answer:- While Excel (XLS and XLSX) file formats are better for storing more complex data, CSV files are supported by nearly all data upload interfaces. If you are planning to move your data between platforms, export and import it from one interface to another, you might be better off with the CSV file format."
      ],
      "metadata": {
        "id": "J8XNgbm7dhNY"
      }
    },
    {
      "cell_type": "code",
      "source": [],
      "metadata": {
        "id": "TPmjorNpdwHH"
      },
      "execution_count": null,
      "outputs": []
    },
    {
      "cell_type": "markdown",
      "source": [
        "## 2.What do you pass to csv.reader() and csv.writer() to create reader and writer objects?\n",
        "\n",
        "Answer:- First, call open() and pass it 'w' to open a file in write mode ❶. This will create the object you can then pass to csv. writer() ❷ to create a Writer object. On Windows, you'll also need to pass a blank string for the open() function's newline keyword argument"
      ],
      "metadata": {
        "id": "y_henVatdwsO"
      }
    },
    {
      "cell_type": "code",
      "source": [],
      "metadata": {
        "id": "k-E6HeOceHbP"
      },
      "execution_count": null,
      "outputs": []
    },
    {
      "cell_type": "markdown",
      "source": [
        "## 3. What modes do File objects for reader and writer objects need to be opened in?\n",
        "\n",
        "Answer:- Here mode means the operation for which the file has to be opened like <r> for reading, <w> for writing, <+> for both reading and writing, <a> for appending at the end of an existing file. The default is the read mode. In addition, we can specify whether the file will be handled as binary (<b>) or text mode."
      ],
      "metadata": {
        "id": "TvAFyZvleIT1"
      }
    },
    {
      "cell_type": "code",
      "source": [],
      "metadata": {
        "id": "pTn0nah2eWN3"
      },
      "execution_count": null,
      "outputs": []
    },
    {
      "cell_type": "markdown",
      "source": [
        "## 4. What method takes a list argument and writes it to a CSV file?\n",
        "\n",
        "Answer:- A CSV file is a bounded text format which uses a comma to separate values. The most common method to write data from a list to CSV file is the writerow() method of writer and DictWriter class."
      ],
      "metadata": {
        "id": "330-F_BBeXmg"
      }
    },
    {
      "cell_type": "code",
      "source": [],
      "metadata": {
        "id": "l1Xmb_Wpejg_"
      },
      "execution_count": null,
      "outputs": []
    },
    {
      "cell_type": "markdown",
      "source": [
        "## 5. What do the keyword arguments delimiter and line terminator do?\n",
        "\n",
        "Answer:- The line terminator is the character that comes at the end of a row. By default, the line terminator is a newline. You can change characters to different values by using the delimiter and lineterminator keyword arguments with csv. writer()"
      ],
      "metadata": {
        "id": "P_Q_ObfGekL_"
      }
    },
    {
      "cell_type": "code",
      "source": [],
      "metadata": {
        "id": "zcBJXxd1euyf"
      },
      "execution_count": null,
      "outputs": []
    },
    {
      "cell_type": "markdown",
      "source": [
        "## 6. What function takes a string of JSON data and returns a Python data structure?\n",
        "\n",
        "Answer:- loads() method return Python data structure of JSON string or data."
      ],
      "metadata": {
        "id": "VKonfNccevop"
      }
    },
    {
      "cell_type": "code",
      "source": [],
      "metadata": {
        "id": "9bJah6Vte1uH"
      },
      "execution_count": null,
      "outputs": []
    },
    {
      "cell_type": "markdown",
      "source": [
        "## 7. What function takes a Python data structure and returns a string of JSON data?\n",
        "\n",
        "ANswer:- If you have a Python object, you can convert it into a JSON string by using the json.dumps() method."
      ],
      "metadata": {
        "id": "G9KuTRaee2n3"
      }
    },
    {
      "cell_type": "code",
      "source": [],
      "metadata": {
        "id": "8zEavH6Oe9nP"
      },
      "execution_count": null,
      "outputs": []
    }
  ]
}